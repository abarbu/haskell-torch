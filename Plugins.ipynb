{
 "cells": [
  {
   "cell_type": "code",
   "execution_count": 1,
   "id": "a76a50e7-fa95-4cdc-86e4-45fa3d8cfb58",
   "metadata": {},
   "outputs": [],
   "source": [
    ":set -XFlexibleContexts -XFlexibleInstances\n",
    ":set -XPolyKinds -XRankNTypes -XScopedTypeVariables -XTypeApplications -XTypeFamilies\n",
    ":set -XTypeFamilyDependencies -XTypeInType -XTypeOperators -XUndecidableInstances\n",
    "import Data.Proxy\n",
    "import GHC.TypeLits"
   ]
  },
  {
   "cell_type": "code",
   "execution_count": 2,
   "id": "01fc228d-bf31-4756-858d-bf532e152866",
   "metadata": {},
   "outputs": [],
   "source": [
    "let f :: forall n . (KnownNat n, KnownNat (n+2)) => Proxy n -> Integer; f _ = natVal (Proxy :: Proxy n) + natVal (Proxy :: Proxy (n+2))"
   ]
  },
  {
   "cell_type": "markdown",
   "id": "04bae7f2-3443-444e-9432-083409dc2d21",
   "metadata": {},
   "source": [
    "This isn't supposed to work"
   ]
  },
  {
   "cell_type": "markdown",
   "id": "bb3eed7e-7167-4133-8ff8-e7e982c1bd94",
   "metadata": {},
   "source": [
    "let f :: forall n . KnownNat n => Proxy n -> Integer; f _ = natVal (Proxy :: Proxy n) + natVal (Proxy :: Proxy (n+2))"
   ]
  },
  {
   "cell_type": "code",
   "execution_count": 19,
   "id": "81fe3842-bf7a-461f-b11e-12e1b2ab5964",
   "metadata": {},
   "outputs": [],
   "source": [
    ":set -fplugin=GHC.TypeLits.KnownNat.Solver"
   ]
  },
  {
   "cell_type": "markdown",
   "id": "a41ca15e-5de6-4320-97e6-3a3ce9b06518",
   "metadata": {},
   "source": [
    "This should work now"
   ]
  },
  {
   "cell_type": "code",
   "execution_count": 20,
   "id": "e56d9088-061c-40bd-a7d7-2707a401ac4c",
   "metadata": {},
   "outputs": [
    {
     "ename": "",
     "evalue": "",
     "header": "MessageHeader {mhIdentifiers = [\"17991769-231d-47e7-aadd-8368a29084e1\"], mhParentHeader = Just (MessageHeader {mhIdentifiers = [\"17991769-231d-47e7-aadd-8368a29084e1\"], mhParentHeader = Nothing, mhMetadata = Metadata (fromList [(\"recordTiming\",Bool False),(\"deletedCells\",Array []),(\"cellId\",String \"e56d9088-061c-40bd-a7d7-2707a401ac4c\")]), mhMessageId = UUID {uuidToString = \"fc830778-70d8-4c91-bf2a-2f9e1c724ee2\"}, mhSessionId = UUID {uuidToString = \"17991769-231d-47e7-aadd-8368a29084e1\"}, mhUsername = \"\", mhMsgType = ExecuteRequestMessage, mhBuffers = []}), mhMetadata = Metadata (fromList []), mhMessageId = UUID {uuidToString = \"3bd3b7bb-47da-4dff-8472-f25e5292ddb5\"}, mhSessionId = UUID {uuidToString = \"17991769-231d-47e7-aadd-8368a29084e1\"}, mhUsername = \"\", mhMsgType = ExecuteErrorMessage, mhBuffers = []}",
     "output_type": "error",
     "traceback": [
      "<interactive>:1:89: error:\n    • Could not deduce (KnownNat (n + 2)) arising from a use of ‘natVal’\n      from the context: KnownNat n\n        bound by the type signature for:\n                   f :: forall (n :: Nat). KnownNat n => Proxy n -> Integer\n        at <interactive>:1:5-52\n    • In the second argument of ‘(+)’, namely ‘natVal (Proxy :: Proxy (n + 2))’\n      In the expression: natVal (Proxy :: Proxy n) + natVal (Proxy :: Proxy (n + 2))\n      In an equation for ‘f’: f _ = natVal (Proxy :: Proxy n) + natVal (Proxy :: Proxy (n + 2))"
     ]
    }
   ],
   "source": [
    "let f :: forall n . KnownNat n => Proxy n -> Integer; f _ = natVal (Proxy :: Proxy n) + natVal (Proxy :: Proxy (n+2))"
   ]
  },
  {
   "cell_type": "markdown",
   "id": "53bbd76b-8f3b-4d42-9f89-dffbf9ffceb5",
   "metadata": {
    "tags": []
   },
   "source": [
    "import GHC.TypeLits.KnownNat.Solver"
   ]
  },
  {
   "cell_type": "code",
   "execution_count": null,
   "id": "66cc2535-7f6f-434c-a5f7-64c922e7a079",
   "metadata": {},
   "outputs": [],
   "source": [
    ":set -fplugin GHC.TypeLits.KnownNat.Solver"
   ]
  }
 ],
 "metadata": {
  "jupytext": {
   "cell_metadata_filter": "-all"
  },
  "kernelspec": {
   "display_name": "Haskell - haskell",
   "language": "haskell",
   "name": "ihaskell_haskell"
  },
  "language_info": {
   "codemirror_mode": "Haskell",
   "file_extension": ".hs",
   "mimetype": "text/x-haskell",
   "name": "haskell",
   "pygments_lexer": "Haskell",
   "version": "8.10.7"
  }
 },
 "nbformat": 4,
 "nbformat_minor": 5
}
